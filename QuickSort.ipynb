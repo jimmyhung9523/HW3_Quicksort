{
  "nbformat": 4,
  "nbformat_minor": 0,
  "metadata": {
    "colab": {
      "provenance": []
    },
    "kernelspec": {
      "name": "python3",
      "display_name": "Python 3"
    },
    "language_info": {
      "name": "python"
    }
  },
  "cells": [
    {
      "cell_type": "code",
      "execution_count": 24,
      "metadata": {
        "colab": {
          "base_uri": "https://localhost:8080/"
        },
        "id": "7v0RLLNEWZQF",
        "outputId": "92ed7290-a98d-4e81-b044-232370ea8696"
      },
      "outputs": [
        {
          "output_type": "stream",
          "name": "stdout",
          "text": [
            "快速排序法結果： [3, 8, 13, 25, 33, 41, 54, 67, 84, 119]\n"
          ]
        }
      ],
      "source": [
        "def quicksort(array, start, end):\n",
        "    if end - start + 1 <= 1:\n",
        "        return\n",
        "\n",
        "    pivot = start\n",
        "    left = start\n",
        "    right = end\n",
        "\n",
        "    while left != right:\n",
        "        while array[right] >= array[pivot] and left < right:\n",
        "            right -= 1\n",
        "        while array[left] <= array[pivot] and left < right:\n",
        "            left += 1\n",
        "        if left < right:\n",
        "            array[left], array[right] = array[right], array[left]\n",
        "\n",
        "    array[pivot], array[right] = array[right], array[pivot]\n",
        "\n",
        "    quicksort(array, start, right - 1)\n",
        "    quicksort(array, right + 1, end)\n",
        "\n",
        "array = [33, 67, 8, 13, 54, 119, 3, 84, 25, 41]\n",
        "quicksort(array, 0, len(array) - 1)\n",
        "print(\"快速排序法結果：\", array)\n"
      ]
    }
  ]
}